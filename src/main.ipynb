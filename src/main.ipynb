{
 "cells": [
  {
   "cell_type": "markdown",
   "id": "dac29148",
   "metadata": {},
   "source": [
    "# Named Entity Recognition\n",
    "Theoretical explanation is present in this blogpost [link](). The project aims to use Bidirectional-LSTM with Conditional Random Fields along with static word embeddings to perform Named Entity Recognition task based off of the CoNLL-2003 dataset. This will be done step by step from downloading and preparing the dataset, embeddings, to training and validating the performance."
   ]
  },
  {
   "cell_type": "markdown",
   "id": "7ca92aec",
   "metadata": {},
   "source": [
    "## 1. Dataset downloading and preprocessing\n",
    "The first step is to download both the dataset which contains the tagged information as well as the static embeddings GloVe, which has vectors with embedded meanings for words. Since BiLSTM cannot generated contextualised vectors like BERT and other transformer models do (a natural improvement), we fallback to using GloVe."
   ]
  },
  {
   "cell_type": "markdown",
   "id": "0c1f3a2b",
   "metadata": {},
   "source": [
    "### 1.1 Downloading GloVe Embeddings\n",
    "We will download the 100 dimensional variant of GloVe (there's a 300 dimensional variant which is heavy but more accurate). This is available for your exploration at [Stanford NLP Github](https://github.com/stanfordnlp/GloVe/releases). The following script uses utility function to download this automatically and unzips to `src/data` folder."
   ]
  },
  {
   "cell_type": "code",
   "execution_count": 1,
   "id": "7b542e5b",
   "metadata": {},
   "outputs": [],
   "source": [
    "# Common Imports\n",
    "import numpy as np"
   ]
  },
  {
   "cell_type": "code",
   "execution_count": 2,
   "id": "9d5a4233",
   "metadata": {},
   "outputs": [],
   "source": [
    "from util.download import download_glove_embeddings, download_conll2003_dataset"
   ]
  },
  {
   "cell_type": "code",
   "execution_count": 3,
   "id": "8691d5d6",
   "metadata": {},
   "outputs": [
    {
     "name": "stdout",
     "output_type": "stream",
     "text": [
      "GloVe embeddings already exist. Skipping download.\n"
     ]
    }
   ],
   "source": [
    "download_glove_embeddings()"
   ]
  },
  {
   "cell_type": "markdown",
   "id": "e523a0c0",
   "metadata": {},
   "source": [
    "### 1.2 Downloading the CoNLL2003 Dataset\n",
    "The following method downloads the CoNLL2003 NER dataset in the same location as before."
   ]
  },
  {
   "cell_type": "code",
   "execution_count": 4,
   "id": "8d8db71a",
   "metadata": {},
   "outputs": [
    {
     "name": "stdout",
     "output_type": "stream",
     "text": [
      "CoNLL-2003 dataset already exists. Skipping download.\n"
     ]
    }
   ],
   "source": [
    "download_conll2003_dataset()"
   ]
  },
  {
   "cell_type": "markdown",
   "id": "fe81693e",
   "metadata": {},
   "source": [
    "### 1.3 Loading the GloVe embeddings, CoNLL Data and create the dataset loader"
   ]
  },
  {
   "cell_type": "code",
   "execution_count": 5,
   "id": "fc7e9806",
   "metadata": {},
   "outputs": [],
   "source": [
    "from util.data import load_glove_embeddings, load_conll_dataset\n",
    "from util.dataset import create_data_loader\n",
    "from util.adapters import bio_tag_dictionary"
   ]
  },
  {
   "cell_type": "code",
   "execution_count": 6,
   "id": "61133e8f",
   "metadata": {},
   "outputs": [
    {
     "name": "stdout",
     "output_type": "stream",
     "text": [
      "Loading GloVe embeddings from file.\n",
      "Loaded 400002 words into vocabulary from GloVe.\n",
      "Loading CoNLL data from data/conll2003/train.txt\n",
      "Dataset loaded.\n",
      "Loading CoNLL data from data/conll2003/test.txt\n",
      "Dataset loaded.\n",
      "Loading CoNLL data from data/conll2003/valid.txt\n",
      "Dataset loaded.\n"
     ]
    }
   ],
   "source": [
    "# Load the GloVe embeddings\n",
    "word2idx, embeddings, dimensions = load_glove_embeddings()\n",
    "\n",
    "# Load the CoNLL as data\n",
    "train_data, test_data, val_data = load_conll_dataset()\n",
    "# Use the Train data as sample to get the tag dictionary\n",
    "tag2label, label2tag = bio_tag_dictionary(train_data)"
   ]
  },
  {
   "cell_type": "markdown",
   "id": "caec20bf",
   "metadata": {},
   "source": [
    "### 1.4 Sanity Checks \n",
    "To ensure data has loaded in the format we expect, to prevent unnecessary bugs."
   ]
  },
  {
   "cell_type": "code",
   "execution_count": 7,
   "id": "c4f2f7fa",
   "metadata": {},
   "outputs": [],
   "source": [
    "assert dimensions == 100\n",
    "assert word2idx[\"the\"] == 2\n",
    "np.testing.assert_allclose(\n",
    "    embeddings[word2idx[\"the\"]],\n",
    "    np.array([-0.038194, -0.24487, 0.72812, -0.39961, 0.083172, 0.043953, -0.39141, 0.3344, -0.57545, 0.087459, 0.28787, -0.06731, 0.30906, -0.26384, -0.13231, -0.20757, 0.33395, -0.33848, -0.31743, -0.48336, 0.1464, -0.37304, 0.34577, 0.052041, 0.44946, -0.46971, 0.02628, -0.54155, -0.15518, -0.14107, -0.039722, 0.28277, 0.14393, 0.23464, -0.31021, 0.086173, 0.20397, 0.52624, 0.17164, -0.082378, -0.71787, -0.41531, 0.20335, -0.12763, 0.41367, 0.55187, 0.57908, -0.33477,\n",
    "              -0.36559, -0.54857, -0.062892, 0.26584, 0.30205, 0.99775, -0.80481, -3.0243, 0.01254, -0.36942, 2.2167, 0.72201, -0.24978, 0.92136, 0.034514, 0.46745, 1.1079, -0.19358, -0.074575, 0.23353, -0.052062, -0.22044, 0.057162, -0.15806, -0.30798, -0.41625, 0.37972, 0.15006, -0.53212, -0.2055, -1.2526, 0.071624, 0.70565, 0.49744, -0.42063, 0.26148, -1.538, -0.30223, -0.073438, -0.28312, 0.37104, -0.25217, 0.016215, -0.017099, -0.38984, 0.87424, -0.72569, -0.51058, -0.52028, -0.1459, 0.8278, 0.27062]),\n",
    "    rtol=1e-5,\n",
    "    atol=1e-8\n",
    ")"
   ]
  },
  {
   "cell_type": "code",
   "execution_count": 8,
   "id": "7d4efa6c",
   "metadata": {},
   "outputs": [
    {
     "data": {
      "text/plain": [
       "(['eu', 'rejects', 'german', 'call', 'to', 'boycott', 'british', 'lamb', '.'],\n",
       " ['b-org', 'o', 'b-misc', 'o', 'o', 'o', 'b-misc', 'o', 'o'])"
      ]
     },
     "execution_count": 8,
     "metadata": {},
     "output_type": "execute_result"
    }
   ],
   "source": [
    "train_data[0].get()"
   ]
  },
  {
   "cell_type": "code",
   "execution_count": 9,
   "id": "e87e4432",
   "metadata": {},
   "outputs": [],
   "source": [
    "BATCH_SIZE=64\n",
    "\n",
    "# Create the actual dataloader\n",
    "train_data_loader = create_data_loader(\n",
    "    train_data, word2idx, tag2label, embeddings, batch_size=BATCH_SIZE)\n",
    "val_data_loader = create_data_loader(\n",
    "    val_data, word2idx, tag2label, embeddings, batch_size=BATCH_SIZE, \n",
    "    is_train=False)\n",
    "test_data_loader = create_data_loader(\n",
    "    test_data, word2idx, tag2label, embeddings, batch_size=BATCH_SIZE, \n",
    "    is_train=False)"
   ]
  },
  {
   "cell_type": "markdown",
   "id": "eb4bf032",
   "metadata": {},
   "source": [
    "## 2. Creating the Runner Instance\n",
    "To run the training and validation loop."
   ]
  },
  {
   "cell_type": "code",
   "execution_count": 10,
   "id": "8cc1c770",
   "metadata": {},
   "outputs": [],
   "source": [
    "from runner import Runner"
   ]
  },
  {
   "cell_type": "code",
   "execution_count": 11,
   "id": "29f402ec",
   "metadata": {},
   "outputs": [],
   "source": [
    "# Defining constants here\n",
    "LEARNING_RATE = 1e-4"
   ]
  },
  {
   "cell_type": "code",
   "execution_count": 12,
   "id": "9e9f16e8",
   "metadata": {},
   "outputs": [],
   "source": [
    "runner = Runner(LEARNING_RATE, train_data_loader, val_data_loader,\n",
    "                test_data_loader, dimensions, len(tag2label.keys()), 30, \"\", label2tag)"
   ]
  },
  {
   "cell_type": "markdown",
   "id": "30f76c60",
   "metadata": {},
   "source": [
    "### 2.1. Training Loop"
   ]
  },
  {
   "cell_type": "code",
   "execution_count": 13,
   "id": "e6ae1cc9",
   "metadata": {},
   "outputs": [
    {
     "data": {
      "application/vnd.jupyter.widget-view+json": {
       "model_id": "f81a8b703d4841aab4956c24ec825a9f",
       "version_major": 2,
       "version_minor": 0
      },
      "text/plain": [
       "Training progress:   0%|          | 0/30 [00:00<?, ?it/s]"
      ]
     },
     "metadata": {},
     "output_type": "display_data"
    },
    {
     "name": "stderr",
     "output_type": "stream",
     "text": [
      "/usr/local/lib/python3.10/dist-packages/torchcrf/__init__.py:249: UserWarning: where received a uint8 condition tensor. This behavior is deprecated and will be removed in a future version of PyTorch. Use a boolean condition instead. (Triggered internally at /pytorch/aten/src/ATen/native/TensorCompare.cpp:611.)\n",
      "  score = torch.where(mask[i].unsqueeze(1), next_score, score)\n"
     ]
    },
    {
     "name": "stdout",
     "output_type": "stream",
     "text": [
      "Epoch: 1/30, Training loss: 824.00, Validation loss: 574.81\n",
      "Epoch: 2/30, Training loss: 474.36, Validation loss: 471.90\n",
      "Epoch: 3/30, Training loss: 399.43, Validation loss: 364.60\n",
      "Epoch: 4/30, Training loss: 316.81, Validation loss: 306.24\n",
      "Epoch: 5/30, Training loss: 283.48, Validation loss: 284.55\n",
      "Epoch: 6/30, Training loss: 262.83, Validation loss: 263.40\n",
      "Epoch: 7/30, Training loss: 247.42, Validation loss: 253.70\n",
      "Epoch: 8/30, Training loss: 233.79, Validation loss: 239.46\n",
      "Epoch: 9/30, Training loss: 224.24, Validation loss: 230.30\n",
      "Epoch: 10/30, Training loss: 214.34, Validation loss: 226.55\n",
      "Epoch: 11/30, Training loss: 206.84, Validation loss: 219.09\n",
      "Epoch: 12/30, Training loss: 200.87, Validation loss: 218.22\n",
      "Epoch: 13/30, Training loss: 194.44, Validation loss: 206.64\n",
      "Epoch: 14/30, Training loss: 188.77, Validation loss: 203.49\n",
      "Epoch: 15/30, Training loss: 184.25, Validation loss: 199.04\n",
      "Epoch: 16/30, Training loss: 179.20, Validation loss: 196.46\n",
      "Epoch: 17/30, Training loss: 175.11, Validation loss: 191.16\n",
      "Epoch: 18/30, Training loss: 170.46, Validation loss: 190.39\n",
      "Epoch: 19/30, Training loss: 167.38, Validation loss: 187.82\n",
      "Epoch: 20/30, Training loss: 163.15, Validation loss: 182.58\n",
      "Epoch: 21/30, Training loss: 159.84, Validation loss: 184.41\n"
     ]
    }
   ],
   "source": [
    "runner.train()"
   ]
  },
  {
   "cell_type": "markdown",
   "id": "2436ebd8",
   "metadata": {},
   "source": [
    "### 2.2. Testing with test data set"
   ]
  },
  {
   "cell_type": "code",
   "execution_count": 17,
   "id": "1c9a7179",
   "metadata": {},
   "outputs": [],
   "source": [
    "filename = \"bilstm_crf_20250519_121223_loss_182.58.pth\""
   ]
  },
  {
   "cell_type": "code",
   "execution_count": 18,
   "id": "f9a63745",
   "metadata": {},
   "outputs": [],
   "source": [
    "runner = Runner(LEARNING_RATE, train_data_loader, val_data_loader,\n",
    "                test_data_loader, dimensions, len(tag2label.keys()), 30, filename, label2tag)"
   ]
  },
  {
   "cell_type": "code",
   "execution_count": 19,
   "id": "21e48f8f",
   "metadata": {},
   "outputs": [
    {
     "name": "stdout",
     "output_type": "stream",
     "text": [
      "Confusion Matrix:\n",
      "[[ 1425    17   131    13     2     0     7     5    68]\n",
      " [   21   445    26    10     0     3     0     9   188]\n",
      " [  145    60  1163    18     0     1    23     4   247]\n",
      " [   35     4    33  1295     0     0     5   130   115]\n",
      " [   82     7     6     3    84     0    21     6    48]\n",
      " [    2    18     2     1     1    88     3     2    99]\n",
      " [  115     9    89    10    18     1   269    13   311]\n",
      " [   18     1    22   109     2     0     2   827   175]\n",
      " [   43    59    91    34     5    38    77    19 37957]]\n",
      "Classification Report:\n",
      "              precision    recall  f1-score   support\n",
      "\n",
      "       b-loc       0.76      0.85      0.80      1668\n",
      "      b-misc       0.72      0.63      0.67       702\n",
      "       b-org       0.74      0.70      0.72      1661\n",
      "       b-per       0.87      0.80      0.83      1617\n",
      "       i-loc       0.75      0.33      0.46       257\n",
      "      i-misc       0.67      0.41      0.51       216\n",
      "       i-org       0.66      0.32      0.43       835\n",
      "       i-per       0.81      0.72      0.76      1156\n",
      "           o       0.97      0.99      0.98     38323\n",
      "\n",
      "    accuracy                           0.94     46435\n",
      "   macro avg       0.77      0.64      0.69     46435\n",
      "weighted avg       0.93      0.94      0.93     46435\n",
      "\n"
     ]
    }
   ],
   "source": [
    "runner.test()"
   ]
  }
 ],
 "metadata": {
  "kernelspec": {
   "display_name": "Python 3 (ipykernel)",
   "language": "python",
   "name": "python3"
  },
  "language_info": {
   "codemirror_mode": {
    "name": "ipython",
    "version": 3
   },
   "file_extension": ".py",
   "mimetype": "text/x-python",
   "name": "python",
   "nbconvert_exporter": "python",
   "pygments_lexer": "ipython3",
   "version": "3.10.12"
  }
 },
 "nbformat": 4,
 "nbformat_minor": 5
}
