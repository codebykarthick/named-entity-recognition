{
 "cells": [
  {
   "cell_type": "markdown",
   "id": "dac29148",
   "metadata": {},
   "source": [
    "# Named Entity Recognition\n",
    "Theoretical explanation is present in this blogpost [link](). The project aims to use Bidirectional-LSTM with Conditional Random Fields along with static word embeddings to perform Named Entity Recognition task based off of the CoNLL-2003 dataset. This will be done step by step from downloading and preparing the dataset, embeddings, to training and validating the performance."
   ]
  },
  {
   "cell_type": "markdown",
   "id": "7ca92aec",
   "metadata": {},
   "source": [
    "## 1. Dataset downloading and preprocessing\n",
    "The first step is to download both the dataset which contains the tagged information as well as the static embeddings GloVe, which has vectors with embedded meanings for words. Since BiLSTM cannot generated contextualised vectors like BERT and other transformer models do (a natural improvement), we fallback to using GloVe."
   ]
  },
  {
   "cell_type": "markdown",
   "id": "0c1f3a2b",
   "metadata": {},
   "source": [
    "### 1.1 Downloading GloVe Embeddings\n",
    "We will download the 100 dimensional variant of GloVe (there's a 300 dimensional variant which is heavy but more accurate). This is available for your exploration at [Stanford NLP Github](https://github.com/stanfordnlp/GloVe/releases). The following script uses utility function to download this automatically and unzips to `src/data` folder."
   ]
  },
  {
   "cell_type": "code",
   "execution_count": 1,
   "id": "9d5a4233",
   "metadata": {},
   "outputs": [],
   "source": [
    "from util.download import download_glove_embeddings"
   ]
  },
  {
   "cell_type": "code",
   "execution_count": 2,
   "id": "8691d5d6",
   "metadata": {},
   "outputs": [
    {
     "name": "stdout",
     "output_type": "stream",
     "text": [
      "GloVe embeddings already exist. Skipping download.\n"
     ]
    }
   ],
   "source": [
    "download_glove_embeddings()"
   ]
  }
 ],
 "metadata": {
  "kernelspec": {
   "display_name": "project",
   "language": "python",
   "name": "python3"
  },
  "language_info": {
   "codemirror_mode": {
    "name": "ipython",
    "version": 3
   },
   "file_extension": ".py",
   "mimetype": "text/x-python",
   "name": "python",
   "nbconvert_exporter": "python",
   "pygments_lexer": "ipython3",
   "version": "3.13.2"
  }
 },
 "nbformat": 4,
 "nbformat_minor": 5
}
